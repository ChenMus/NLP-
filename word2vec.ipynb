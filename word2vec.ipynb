{
 "cells": [
  {
   "cell_type": "code",
   "execution_count": 1,
   "metadata": {},
   "outputs": [],
   "source": [
    "import jieba\n",
    "import jieba.analyse\n",
    "import codecs"
   ]
  },
  {
   "cell_type": "code",
   "execution_count": 2,
   "metadata": {},
   "outputs": [
    {
     "name": "stderr",
     "output_type": "stream",
     "text": [
      "Building prefix dict from the default dictionary ...\n",
      "Loading model from cache C:\\Users\\69547\\AppData\\Local\\Temp\\jieba.cache\n",
      "Loading model cost 0.625 seconds.\n",
      "Prefix dict has been built succesfully.\n"
     ]
    },
    {
     "data": {
      "text/plain": [
       "1"
      ]
     },
     "execution_count": 2,
     "metadata": {},
     "output_type": "execute_result"
    }
   ],
   "source": [
    "jieba.suggest_freq('沙瑞金', True)\n",
    "jieba.suggest_freq('田国富', True)\n",
    "jieba.suggest_freq('高育良', True)\n",
    "jieba.suggest_freq('侯亮平', True)\n",
    "jieba.suggest_freq('钟小艾', True)\n",
    "jieba.suggest_freq('陈岩石', True)\n",
    "jieba.suggest_freq('欧阳菁', True)\n",
    "jieba.suggest_freq('易学习', True)\n",
    "jieba.suggest_freq('王大路', True)\n",
    "jieba.suggest_freq('蔡成功', True)\n",
    "jieba.suggest_freq('孙连城', True)\n",
    "jieba.suggest_freq('季昌明', True)\n",
    "jieba.suggest_freq('丁义珍', True)\n",
    "jieba.suggest_freq('郑西坡', True)\n",
    "jieba.suggest_freq('赵东来', True)\n",
    "jieba.suggest_freq('高小琴', True)\n",
    "jieba.suggest_freq('赵瑞龙', True)\n",
    "jieba.suggest_freq('林华华', True)\n",
    "jieba.suggest_freq('陆亦可', True)\n",
    "jieba.suggest_freq('刘新建', True)\n",
    "jieba.suggest_freq('刘庆祝', True)"
   ]
  },
  {
   "cell_type": "code",
   "execution_count": 4,
   "metadata": {},
   "outputs": [],
   "source": [
    "with codecs.open('in_the_name_of_people.txt', 'r', encoding='utf-8') as f:\n",
    "    document = f.read()\n",
    "    \n",
    "    document_cut = jieba.cut(document)\n",
    "    # print ( ' '.join(jieba_cut))  //如果打印结果，则分词效果消失，后面的result无法显示\n",
    "    result = ' '.join(document_cut)\n",
    "    #  result = result.encode('utf-8')\n",
    "    with open('./in_the_name_of_people_segment.txt', 'w', encoding='utf-8') as f2:\n",
    "        f2.write(result)\n",
    "        "
   ]
  },
  {
   "cell_type": "markdown",
   "metadata": {},
   "source": [
    "拿到了分词后的文件，在一般的NLP处理中，会需要去停用词。由于word2vec的算法依赖于上下文，而上下文有可能就是停词。因此对于word2vec，我们可以不用去停词。\n",
    "\n",
    "　　　　现在我们可以直接读分词后的文件到内存。这里使用了word2vec提供的LineSentence类来读文件，然后套用word2vec的模型。这里只是一个示例，因此省去了调参的步骤，实际使用的时候，你可能需要对我们上面提到一些参数进行调参。"
   ]
  },
  {
   "cell_type": "code",
   "execution_count": 6,
   "metadata": {},
   "outputs": [],
   "source": [
    "import logging\n",
    "import os\n",
    "from gensim.models import word2vec"
   ]
  },
  {
   "cell_type": "code",
   "execution_count": 7,
   "metadata": {},
   "outputs": [
    {
     "name": "stderr",
     "output_type": "stream",
     "text": [
      "2019-03-13 13:10:11,347 : INFO : collecting all words and their counts\n",
      "2019-03-13 13:10:11,349 : INFO : PROGRESS: at sentence #0, processed 0 words, keeping 0 word types\n",
      "2019-03-13 13:10:11,397 : INFO : collected 17878 word types from a corpus of 161343 raw words and 2311 sentences\n",
      "2019-03-13 13:10:11,398 : INFO : Loading a fresh vocabulary\n",
      "2019-03-13 13:10:11,448 : INFO : effective_min_count=1 retains 17878 unique words (100% of original 17878, drops 0)\n",
      "2019-03-13 13:10:11,448 : INFO : effective_min_count=1 leaves 161343 word corpus (100% of original 161343, drops 0)\n",
      "2019-03-13 13:10:11,487 : INFO : deleting the raw counts dictionary of 17878 items\n",
      "2019-03-13 13:10:11,488 : INFO : sample=0.001 downsamples 38 most-common words\n",
      "2019-03-13 13:10:11,489 : INFO : downsampling leaves estimated 120578 word corpus (74.7% of prior 161343)\n",
      "2019-03-13 13:10:11,498 : INFO : constructing a huffman tree from 17878 words\n",
      "2019-03-13 13:10:11,815 : INFO : built huffman tree with maximum node depth 17\n",
      "2019-03-13 13:10:11,841 : INFO : estimated required memory for 17878 words and 100 dimensions: 33968200 bytes\n",
      "2019-03-13 13:10:11,841 : INFO : resetting layer weights\n",
      "2019-03-13 13:10:12,001 : INFO : training model with 3 workers on 17878 vocabulary and 100 features, using sg=0 hs=1 sample=0.001 negative=5 window=3\n",
      "2019-03-13 13:10:12,177 : INFO : worker thread finished; awaiting finish of 2 more threads\n",
      "2019-03-13 13:10:12,179 : INFO : worker thread finished; awaiting finish of 1 more threads\n",
      "2019-03-13 13:10:12,188 : INFO : worker thread finished; awaiting finish of 0 more threads\n",
      "2019-03-13 13:10:12,189 : INFO : EPOCH - 1 : training on 161343 raw words (120480 effective words) took 0.2s, 658153 effective words/s\n",
      "2019-03-13 13:10:12,337 : INFO : worker thread finished; awaiting finish of 2 more threads\n",
      "2019-03-13 13:10:12,339 : INFO : worker thread finished; awaiting finish of 1 more threads\n",
      "2019-03-13 13:10:12,352 : INFO : worker thread finished; awaiting finish of 0 more threads\n",
      "2019-03-13 13:10:12,353 : INFO : EPOCH - 2 : training on 161343 raw words (120565 effective words) took 0.2s, 743583 effective words/s\n",
      "2019-03-13 13:10:12,503 : INFO : worker thread finished; awaiting finish of 2 more threads\n",
      "2019-03-13 13:10:12,504 : INFO : worker thread finished; awaiting finish of 1 more threads\n",
      "2019-03-13 13:10:12,519 : INFO : worker thread finished; awaiting finish of 0 more threads\n",
      "2019-03-13 13:10:12,520 : INFO : EPOCH - 3 : training on 161343 raw words (120584 effective words) took 0.2s, 734478 effective words/s\n",
      "2019-03-13 13:10:12,665 : INFO : worker thread finished; awaiting finish of 2 more threads\n",
      "2019-03-13 13:10:12,668 : INFO : worker thread finished; awaiting finish of 1 more threads\n",
      "2019-03-13 13:10:12,682 : INFO : worker thread finished; awaiting finish of 0 more threads\n",
      "2019-03-13 13:10:12,683 : INFO : EPOCH - 4 : training on 161343 raw words (120556 effective words) took 0.2s, 745494 effective words/s\n",
      "2019-03-13 13:10:12,832 : INFO : worker thread finished; awaiting finish of 2 more threads\n",
      "2019-03-13 13:10:12,836 : INFO : worker thread finished; awaiting finish of 1 more threads\n",
      "2019-03-13 13:10:12,846 : INFO : worker thread finished; awaiting finish of 0 more threads\n",
      "2019-03-13 13:10:12,847 : INFO : EPOCH - 5 : training on 161343 raw words (120478 effective words) took 0.2s, 743018 effective words/s\n",
      "2019-03-13 13:10:12,848 : INFO : training on a 806715 raw words (602663 effective words) took 0.8s, 712509 effective words/s\n"
     ]
    }
   ],
   "source": [
    "logging.basicConfig(format='%(asctime)s : %(levelname)s : %(message)s', level=logging.INFO)\n",
    "sentences = word2vec.LineSentence('./in_the_name_of_people_segment.txt')\n",
    "model = word2vec.Word2Vec(sentences, hs=1, min_count=1, window=3, size=100)"
   ]
  },
  {
   "cell_type": "markdown",
   "metadata": {},
   "source": [
    "\n",
    "　　　　模型出来了，我们可以用来做什么呢？这里给出三个常用的应用。\n",
    "\n",
    "　　　　第一个是最常用的，找出某一个词向量最相近的词集合，代码如下："
   ]
  },
  {
   "cell_type": "code",
   "execution_count": 10,
   "metadata": {},
   "outputs": [
    {
     "name": "stderr",
     "output_type": "stream",
     "text": [
      "2019-03-13 13:14:11,763 : INFO : precomputing L2-norms of word weight vectors\n"
     ]
    },
    {
     "name": "stdout",
     "output_type": "stream",
     "text": [
      "高育良 0.9748526215553284\n",
      "田国富 0.9357808828353882\n",
      "易学习 0.9340534806251526\n",
      "侯亮平 0.93131422996521\n",
      "季昌明 0.9240447878837585\n"
     ]
    }
   ],
   "source": [
    "req_count = 5\n",
    "for key in model.wv.similar_by_word('沙瑞金', topn =100):\n",
    "    if len(key[0])==3:\n",
    "        req_count -= 1\n",
    "        print(key[0], key[1])\n",
    "        if req_count == 0:\n",
    "            break"
   ]
  },
  {
   "cell_type": "markdown",
   "metadata": {},
   "source": [
    "第二个应用是看两个词向量的相近程度，这里给出了书中两组人的相似程度："
   ]
  },
  {
   "cell_type": "code",
   "execution_count": 20,
   "metadata": {},
   "outputs": [
    {
     "name": "stdout",
     "output_type": "stream",
     "text": [
      "0.9748527\n",
      "0.93381447\n"
     ]
    }
   ],
   "source": [
    "print(model.wv.similarity('沙瑞金', '高育良'))\n",
    "print(model.wv.similarity('李达康', '王大路'))"
   ]
  },
  {
   "cell_type": "markdown",
   "metadata": {},
   "source": [
    "第三个应用是找出不同类的词，这里给出了人物分类题："
   ]
  },
  {
   "cell_type": "code",
   "execution_count": 22,
   "metadata": {},
   "outputs": [
    {
     "name": "stdout",
     "output_type": "stream",
     "text": [
      "刘庆祝\n"
     ]
    }
   ],
   "source": [
    "print(model.wv.doesnt_match(\"沙瑞金 高育良 李达康 刘庆祝\".split()))"
   ]
  },
  {
   "cell_type": "code",
   "execution_count": null,
   "metadata": {},
   "outputs": [],
   "source": []
  }
 ],
 "metadata": {
  "kernelspec": {
   "display_name": "Python 3",
   "language": "python",
   "name": "python3"
  },
  "language_info": {
   "codemirror_mode": {
    "name": "ipython",
    "version": 3
   },
   "file_extension": ".py",
   "mimetype": "text/x-python",
   "name": "python",
   "nbconvert_exporter": "python",
   "pygments_lexer": "ipython3",
   "version": "3.6.5"
  }
 },
 "nbformat": 4,
 "nbformat_minor": 2
}
